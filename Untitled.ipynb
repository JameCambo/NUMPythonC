{
 "cells": [
  {
   "cell_type": "code",
   "execution_count": 7,
   "metadata": {},
   "outputs": [
    {
     "name": "stdout",
     "output_type": "stream",
     "text": [
      "This is Lucky Number program\n",
      "it will let you input the number\n",
      "If you input correctly with the random value you will win\n",
      "type 'done' to finish it thanks\n",
      "please input the value : 10\n",
      "result :  10\n",
      "you are win\n",
      "you are lost :  0\n"
     ]
    }
   ],
   "source": [
    "import random\n",
    "def luckynumber():\n",
    "    x = int(random.random() * 100)\n",
    "    return x\n",
    "\n",
    "try:\n",
    "    print(\"This is Lucky Number program\")\n",
    "    print(\"it will let you input the number\")\n",
    "    print(\"If you input correctly with the random value you will win\")\n",
    "    print(\"type 'done' to finish it thanks\")\n",
    "    i = 0\n",
    "    while True:\n",
    "        rvalue = luckynumber()\n",
    "        #rvalue = 10\n",
    "        user_input = input(\"please input the value : \")\n",
    "        if user_input == \"done\":\n",
    "            break\n",
    "        elif int(user_input) == rvalue:\n",
    "            print(\"result : \" , rvalue)\n",
    "            print(\"you are win\")\n",
    "            break\n",
    "        else:    \n",
    "            print(\"result : \" , rvalue)\n",
    "            print(\"you are lost and try again\")\n",
    "            i = i + 1\n",
    "    print(\"you are lost : \", i)\n",
    "except:\n",
    "    print(\"catch error\")\n"
   ]
  },
  {
   "cell_type": "code",
   "execution_count": null,
   "metadata": {},
   "outputs": [],
   "source": []
  },
  {
   "cell_type": "code",
   "execution_count": null,
   "metadata": {},
   "outputs": [],
   "source": []
  }
 ],
 "metadata": {
  "kernelspec": {
   "display_name": "Python 3",
   "language": "python",
   "name": "python3"
  },
  "language_info": {
   "codemirror_mode": {
    "name": "ipython",
    "version": 3
   },
   "file_extension": ".py",
   "mimetype": "text/x-python",
   "name": "python",
   "nbconvert_exporter": "python",
   "pygments_lexer": "ipython3",
   "version": "3.6.5"
  }
 },
 "nbformat": 4,
 "nbformat_minor": 2
}
