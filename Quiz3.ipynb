{
 "cells": [
  {
   "cell_type": "markdown",
   "metadata": {},
   "source": [
    "# Quiz for Chapter 3 - Conditional execution\n",
    "# Student Name Kong Chanpanith ~ Number 21847012"
   ]
  },
  {
   "cell_type": "code",
   "execution_count": 8,
   "metadata": {},
   "outputs": [
    {
     "name": "stdout",
     "output_type": "stream",
     "text": [
      "True\n",
      "True\n",
      "False\n",
      "False\n",
      "True\n",
      "False\n"
     ]
    }
   ],
   "source": [
    "# Question 1\n",
    "#Evaluate the following code for year = 24, 2000, 2018, 2019, 2020, 2100\n",
    "arg = [24,2000,2018,2019,2020,2100]\n",
    "for ele in arg:\n",
    "    if (ele % 4 == 0 and ele % 100!= 0) or ele%400 == 0:\n",
    "        print(True) \n",
    "    else:\n",
    "        print(False)"
   ]
  },
  {
   "cell_type": "code",
   "execution_count": 11,
   "metadata": {
    "scrolled": true
   },
   "outputs": [
    {
     "name": "stdout",
     "output_type": "stream",
     "text": [
      "Enter your score between 0 and 1.0:1\n",
      "A\n"
     ]
    }
   ],
   "source": [
    "# Question 2\n",
    "#Write a program that prints A if the score is above 0.9, and B above 0.8, otherwise F.\n",
    "#Don't use try and except in this code.\n",
    "score=input('Enter your score between 0 and 1.0:')\n",
    "score = float(score)\n",
    "if score >=0.9 and score <=1:\n",
    "    print('A')\n",
    "elif score >=0.8 and score <0.9:\n",
    "    print('B')\n",
    "else:\n",
    "    print('F')\n",
    "    "
   ]
  },
  {
   "cell_type": "code",
   "execution_count": 2,
   "metadata": {},
   "outputs": [
    {
     "name": "stdout",
     "output_type": "stream",
     "text": [
      "Enter your score between 0 and 1.0 \n",
      "err_msg1=Expecting a numeric value (0.0 ~ 1.0)\n",
      "Enter your score between 0 and 1.0 \n",
      "err_msg2=Cannot process the score, expecting a score between 0 and 1.0\n"
     ]
    }
   ],
   "source": [
    "# Question 3\n",
    "#Rewrite the program above using try and except. Assume that you have the following error messages available.\n",
    "#err_msg1='Expecting a numeric value (0.0 ~ 1.0)'\n",
    "try:\n",
    "    score=input('Enter your score between 0 and 1.0 ')\n",
    "    sco=float(score)\n",
    "    if sco >=0.9 and sco <=1:\n",
    "        print('A')\n",
    "    elif sco >=0.8 and sco <0.9:\n",
    "        print('B')\n",
    "    else:\n",
    "        print('F')\n",
    "    \n",
    "except:\n",
    "    print('err_msg1=Expecting a numeric value (0.0 ~ 1.0)')\n",
    "#err_msg2='Cannot process the score, expecting a score between 0 and 1.0'\n",
    "try:\n",
    "    score=input('Enter your score between 0 and 1.0 ')\n",
    "    sco=float(score)\n",
    "    if sco >=0.9 and sco <=1:\n",
    "        print('A')\n",
    "    elif sco >=0.8 and sco <0.9:\n",
    "        print('B')\n",
    "    else:\n",
    "        print('F')\n",
    "except:\n",
    "    print('err_msg2=Cannot process the score, expecting a score between 0 and 1.0')"
   ]
  }
 ],
 "metadata": {
  "kernelspec": {
   "display_name": "Python 3",
   "language": "python",
   "name": "python3"
  },
  "language_info": {
   "codemirror_mode": {
    "name": "ipython",
    "version": 3
   },
   "file_extension": ".py",
   "mimetype": "text/x-python",
   "name": "python",
   "nbconvert_exporter": "python",
   "pygments_lexer": "ipython3",
   "version": "3.6.5"
  }
 },
 "nbformat": 4,
 "nbformat_minor": 2
}
